{
 "cells": [
  {
   "cell_type": "markdown",
   "id": "824c174b-fd86-4e44-ae01-b7c58f0c7365",
   "metadata": {},
   "source": [
    "## Importing Libraries"
   ]
  },
  {
   "cell_type": "code",
   "execution_count": 1,
   "id": "2656892f-638d-4e48-ba03-9ce9c5c8c02e",
   "metadata": {
    "tags": []
   },
   "outputs": [],
   "source": [
    "import pandas as pd\n",
    "import seaborn as sns\n",
    "import matplotlib.pyplot as plt\n",
    "import numpy as np"
   ]
  },
  {
   "cell_type": "markdown",
   "id": "772b3d90-1335-428f-8a4f-0867004c0bd6",
   "metadata": {},
   "source": [
    "## Importing the dataset"
   ]
  },
  {
   "cell_type": "code",
   "execution_count": 2,
   "id": "283ec350-2f27-4abc-8be6-21889606f0ee",
   "metadata": {},
   "outputs": [
    {
     "data": {
      "text/html": [
       "<div>\n",
       "<style scoped>\n",
       "    .dataframe tbody tr th:only-of-type {\n",
       "        vertical-align: middle;\n",
       "    }\n",
       "\n",
       "    .dataframe tbody tr th {\n",
       "        vertical-align: top;\n",
       "    }\n",
       "\n",
       "    .dataframe thead th {\n",
       "        text-align: right;\n",
       "    }\n",
       "</style>\n",
       "<table border=\"1\" class=\"dataframe\">\n",
       "  <thead>\n",
       "    <tr style=\"text-align: right;\">\n",
       "      <th></th>\n",
       "      <th>game_id</th>\n",
       "      <th>rated</th>\n",
       "      <th>turns</th>\n",
       "      <th>victory_status</th>\n",
       "      <th>winner</th>\n",
       "      <th>time_increment</th>\n",
       "      <th>white_id</th>\n",
       "      <th>white_rating</th>\n",
       "      <th>black_id</th>\n",
       "      <th>black_rating</th>\n",
       "      <th>moves</th>\n",
       "      <th>opening_code</th>\n",
       "      <th>opening_moves</th>\n",
       "      <th>opening_fullname</th>\n",
       "      <th>opening_shortname</th>\n",
       "      <th>opening_response</th>\n",
       "      <th>opening_variation</th>\n",
       "    </tr>\n",
       "  </thead>\n",
       "  <tbody>\n",
       "    <tr>\n",
       "      <th>0</th>\n",
       "      <td>1</td>\n",
       "      <td>False</td>\n",
       "      <td>13</td>\n",
       "      <td>Out of Time</td>\n",
       "      <td>White</td>\n",
       "      <td>15+2</td>\n",
       "      <td>bourgris</td>\n",
       "      <td>1500</td>\n",
       "      <td>a-00</td>\n",
       "      <td>1191</td>\n",
       "      <td>d4 d5 c4 c6 cxd5 e6 dxe6 fxe6 Nf3 Bb4+ Nc3 Ba5...</td>\n",
       "      <td>D10</td>\n",
       "      <td>5</td>\n",
       "      <td>Slav Defense: Exchange Variation</td>\n",
       "      <td>Slav Defense</td>\n",
       "      <td>NaN</td>\n",
       "      <td>Exchange Variation</td>\n",
       "    </tr>\n",
       "    <tr>\n",
       "      <th>1</th>\n",
       "      <td>2</td>\n",
       "      <td>True</td>\n",
       "      <td>16</td>\n",
       "      <td>Resign</td>\n",
       "      <td>Black</td>\n",
       "      <td>5+10</td>\n",
       "      <td>a-00</td>\n",
       "      <td>1322</td>\n",
       "      <td>skinnerua</td>\n",
       "      <td>1261</td>\n",
       "      <td>d4 Nc6 e4 e5 f4 f6 dxe5 fxe5 fxe5 Nxe5 Qd4 Nc6...</td>\n",
       "      <td>B00</td>\n",
       "      <td>4</td>\n",
       "      <td>Nimzowitsch Defense: Kennedy Variation</td>\n",
       "      <td>Nimzowitsch Defense</td>\n",
       "      <td>NaN</td>\n",
       "      <td>Kennedy Variation</td>\n",
       "    </tr>\n",
       "    <tr>\n",
       "      <th>2</th>\n",
       "      <td>3</td>\n",
       "      <td>True</td>\n",
       "      <td>61</td>\n",
       "      <td>Mate</td>\n",
       "      <td>White</td>\n",
       "      <td>5+10</td>\n",
       "      <td>ischia</td>\n",
       "      <td>1496</td>\n",
       "      <td>a-00</td>\n",
       "      <td>1500</td>\n",
       "      <td>e4 e5 d3 d6 Be3 c6 Be2 b5 Nd2 a5 a4 c5 axb5 Nc...</td>\n",
       "      <td>C20</td>\n",
       "      <td>3</td>\n",
       "      <td>King's Pawn Game: Leonardis Variation</td>\n",
       "      <td>King's Pawn Game</td>\n",
       "      <td>NaN</td>\n",
       "      <td>Leonardis Variation</td>\n",
       "    </tr>\n",
       "    <tr>\n",
       "      <th>3</th>\n",
       "      <td>4</td>\n",
       "      <td>True</td>\n",
       "      <td>61</td>\n",
       "      <td>Mate</td>\n",
       "      <td>White</td>\n",
       "      <td>20+0</td>\n",
       "      <td>daniamurashov</td>\n",
       "      <td>1439</td>\n",
       "      <td>adivanov2009</td>\n",
       "      <td>1454</td>\n",
       "      <td>d4 d5 Nf3 Bf5 Nc3 Nf6 Bf4 Ng4 e3 Nc6 Be2 Qd7 O...</td>\n",
       "      <td>D02</td>\n",
       "      <td>3</td>\n",
       "      <td>Queen's Pawn Game: Zukertort Variation</td>\n",
       "      <td>Queen's Pawn Game</td>\n",
       "      <td>NaN</td>\n",
       "      <td>Zukertort Variation</td>\n",
       "    </tr>\n",
       "    <tr>\n",
       "      <th>4</th>\n",
       "      <td>5</td>\n",
       "      <td>True</td>\n",
       "      <td>95</td>\n",
       "      <td>Mate</td>\n",
       "      <td>White</td>\n",
       "      <td>30+3</td>\n",
       "      <td>nik221107</td>\n",
       "      <td>1523</td>\n",
       "      <td>adivanov2009</td>\n",
       "      <td>1469</td>\n",
       "      <td>e4 e5 Nf3 d6 d4 Nc6 d5 Nb4 a3 Na6 Nc3 Be7 b4 N...</td>\n",
       "      <td>C41</td>\n",
       "      <td>5</td>\n",
       "      <td>Philidor Defense</td>\n",
       "      <td>Philidor Defense</td>\n",
       "      <td>NaN</td>\n",
       "      <td>NaN</td>\n",
       "    </tr>\n",
       "  </tbody>\n",
       "</table>\n",
       "</div>"
      ],
      "text/plain": [
       "   game_id  rated  turns victory_status winner time_increment       white_id  \\\n",
       "0        1  False     13    Out of Time  White           15+2       bourgris   \n",
       "1        2   True     16         Resign  Black           5+10           a-00   \n",
       "2        3   True     61           Mate  White           5+10         ischia   \n",
       "3        4   True     61           Mate  White           20+0  daniamurashov   \n",
       "4        5   True     95           Mate  White           30+3      nik221107   \n",
       "\n",
       "   white_rating      black_id  black_rating  \\\n",
       "0          1500          a-00          1191   \n",
       "1          1322     skinnerua          1261   \n",
       "2          1496          a-00          1500   \n",
       "3          1439  adivanov2009          1454   \n",
       "4          1523  adivanov2009          1469   \n",
       "\n",
       "                                               moves opening_code  \\\n",
       "0  d4 d5 c4 c6 cxd5 e6 dxe6 fxe6 Nf3 Bb4+ Nc3 Ba5...          D10   \n",
       "1  d4 Nc6 e4 e5 f4 f6 dxe5 fxe5 fxe5 Nxe5 Qd4 Nc6...          B00   \n",
       "2  e4 e5 d3 d6 Be3 c6 Be2 b5 Nd2 a5 a4 c5 axb5 Nc...          C20   \n",
       "3  d4 d5 Nf3 Bf5 Nc3 Nf6 Bf4 Ng4 e3 Nc6 Be2 Qd7 O...          D02   \n",
       "4  e4 e5 Nf3 d6 d4 Nc6 d5 Nb4 a3 Na6 Nc3 Be7 b4 N...          C41   \n",
       "\n",
       "   opening_moves                        opening_fullname    opening_shortname  \\\n",
       "0              5        Slav Defense: Exchange Variation         Slav Defense   \n",
       "1              4  Nimzowitsch Defense: Kennedy Variation  Nimzowitsch Defense   \n",
       "2              3   King's Pawn Game: Leonardis Variation     King's Pawn Game   \n",
       "3              3  Queen's Pawn Game: Zukertort Variation    Queen's Pawn Game   \n",
       "4              5                        Philidor Defense     Philidor Defense   \n",
       "\n",
       "  opening_response    opening_variation  \n",
       "0              NaN   Exchange Variation  \n",
       "1              NaN    Kennedy Variation  \n",
       "2              NaN  Leonardis Variation  \n",
       "3              NaN  Zukertort Variation  \n",
       "4              NaN                  NaN  "
      ]
     },
     "execution_count": 2,
     "metadata": {},
     "output_type": "execute_result"
    }
   ],
   "source": [
    "df = pd.read_csv('chess_games.csv')\n",
    "df.head(5)"
   ]
  },
  {
   "cell_type": "markdown",
   "id": "a24ad862-23f9-4edf-8dba-b33f33fe1858",
   "metadata": {},
   "source": [
    "## Data understanding and cleaning"
   ]
  },
  {
   "cell_type": "code",
   "execution_count": 3,
   "id": "535f46f6-fae4-4ef9-bcc7-773027728fbb",
   "metadata": {},
   "outputs": [
    {
     "data": {
      "text/html": [
       "<div>\n",
       "<style scoped>\n",
       "    .dataframe tbody tr th:only-of-type {\n",
       "        vertical-align: middle;\n",
       "    }\n",
       "\n",
       "    .dataframe tbody tr th {\n",
       "        vertical-align: top;\n",
       "    }\n",
       "\n",
       "    .dataframe thead th {\n",
       "        text-align: right;\n",
       "    }\n",
       "</style>\n",
       "<table border=\"1\" class=\"dataframe\">\n",
       "  <thead>\n",
       "    <tr style=\"text-align: right;\">\n",
       "      <th></th>\n",
       "      <th>game_id</th>\n",
       "      <th>rated</th>\n",
       "      <th>turns</th>\n",
       "      <th>victory_status</th>\n",
       "      <th>winner</th>\n",
       "      <th>time_increment</th>\n",
       "      <th>white_id</th>\n",
       "      <th>white_rating</th>\n",
       "      <th>black_id</th>\n",
       "      <th>black_rating</th>\n",
       "      <th>opening_fullname</th>\n",
       "      <th>opening_shortname</th>\n",
       "    </tr>\n",
       "  </thead>\n",
       "  <tbody>\n",
       "    <tr>\n",
       "      <th>0</th>\n",
       "      <td>1</td>\n",
       "      <td>False</td>\n",
       "      <td>13</td>\n",
       "      <td>Out of Time</td>\n",
       "      <td>White</td>\n",
       "      <td>15+2</td>\n",
       "      <td>bourgris</td>\n",
       "      <td>1500</td>\n",
       "      <td>a-00</td>\n",
       "      <td>1191</td>\n",
       "      <td>Slav Defense: Exchange Variation</td>\n",
       "      <td>Slav Defense</td>\n",
       "    </tr>\n",
       "    <tr>\n",
       "      <th>1</th>\n",
       "      <td>2</td>\n",
       "      <td>True</td>\n",
       "      <td>16</td>\n",
       "      <td>Resign</td>\n",
       "      <td>Black</td>\n",
       "      <td>5+10</td>\n",
       "      <td>a-00</td>\n",
       "      <td>1322</td>\n",
       "      <td>skinnerua</td>\n",
       "      <td>1261</td>\n",
       "      <td>Nimzowitsch Defense: Kennedy Variation</td>\n",
       "      <td>Nimzowitsch Defense</td>\n",
       "    </tr>\n",
       "    <tr>\n",
       "      <th>2</th>\n",
       "      <td>3</td>\n",
       "      <td>True</td>\n",
       "      <td>61</td>\n",
       "      <td>Mate</td>\n",
       "      <td>White</td>\n",
       "      <td>5+10</td>\n",
       "      <td>ischia</td>\n",
       "      <td>1496</td>\n",
       "      <td>a-00</td>\n",
       "      <td>1500</td>\n",
       "      <td>King's Pawn Game: Leonardis Variation</td>\n",
       "      <td>King's Pawn Game</td>\n",
       "    </tr>\n",
       "    <tr>\n",
       "      <th>3</th>\n",
       "      <td>4</td>\n",
       "      <td>True</td>\n",
       "      <td>61</td>\n",
       "      <td>Mate</td>\n",
       "      <td>White</td>\n",
       "      <td>20+0</td>\n",
       "      <td>daniamurashov</td>\n",
       "      <td>1439</td>\n",
       "      <td>adivanov2009</td>\n",
       "      <td>1454</td>\n",
       "      <td>Queen's Pawn Game: Zukertort Variation</td>\n",
       "      <td>Queen's Pawn Game</td>\n",
       "    </tr>\n",
       "    <tr>\n",
       "      <th>4</th>\n",
       "      <td>5</td>\n",
       "      <td>True</td>\n",
       "      <td>95</td>\n",
       "      <td>Mate</td>\n",
       "      <td>White</td>\n",
       "      <td>30+3</td>\n",
       "      <td>nik221107</td>\n",
       "      <td>1523</td>\n",
       "      <td>adivanov2009</td>\n",
       "      <td>1469</td>\n",
       "      <td>Philidor Defense</td>\n",
       "      <td>Philidor Defense</td>\n",
       "    </tr>\n",
       "  </tbody>\n",
       "</table>\n",
       "</div>"
      ],
      "text/plain": [
       "   game_id  rated  turns victory_status winner time_increment       white_id  \\\n",
       "0        1  False     13    Out of Time  White           15+2       bourgris   \n",
       "1        2   True     16         Resign  Black           5+10           a-00   \n",
       "2        3   True     61           Mate  White           5+10         ischia   \n",
       "3        4   True     61           Mate  White           20+0  daniamurashov   \n",
       "4        5   True     95           Mate  White           30+3      nik221107   \n",
       "\n",
       "   white_rating      black_id  black_rating  \\\n",
       "0          1500          a-00          1191   \n",
       "1          1322     skinnerua          1261   \n",
       "2          1496          a-00          1500   \n",
       "3          1439  adivanov2009          1454   \n",
       "4          1523  adivanov2009          1469   \n",
       "\n",
       "                         opening_fullname    opening_shortname  \n",
       "0        Slav Defense: Exchange Variation         Slav Defense  \n",
       "1  Nimzowitsch Defense: Kennedy Variation  Nimzowitsch Defense  \n",
       "2   King's Pawn Game: Leonardis Variation     King's Pawn Game  \n",
       "3  Queen's Pawn Game: Zukertort Variation    Queen's Pawn Game  \n",
       "4                        Philidor Defense     Philidor Defense  "
      ]
     },
     "execution_count": 3,
     "metadata": {},
     "output_type": "execute_result"
    }
   ],
   "source": [
    "df.drop(columns = ['moves','opening_response','opening_variation','opening_code','opening_moves'],inplace=True)\n",
    "df.head()"
   ]
  },
  {
   "cell_type": "code",
   "execution_count": 4,
   "id": "6f033a7e-17f3-4ae4-9970-d437405c6715",
   "metadata": {},
   "outputs": [
    {
     "name": "stdout",
     "output_type": "stream",
     "text": [
      "<class 'pandas.core.frame.DataFrame'>\n",
      "RangeIndex: 20058 entries, 0 to 20057\n",
      "Data columns (total 12 columns):\n",
      " #   Column             Non-Null Count  Dtype \n",
      "---  ------             --------------  ----- \n",
      " 0   game_id            20058 non-null  int64 \n",
      " 1   rated              20058 non-null  bool  \n",
      " 2   turns              20058 non-null  int64 \n",
      " 3   victory_status     20058 non-null  object\n",
      " 4   winner             20058 non-null  object\n",
      " 5   time_increment     20058 non-null  object\n",
      " 6   white_id           20058 non-null  object\n",
      " 7   white_rating       20058 non-null  int64 \n",
      " 8   black_id           20058 non-null  object\n",
      " 9   black_rating       20058 non-null  int64 \n",
      " 10  opening_fullname   20058 non-null  object\n",
      " 11  opening_shortname  20058 non-null  object\n",
      "dtypes: bool(1), int64(4), object(7)\n",
      "memory usage: 1.7+ MB\n"
     ]
    }
   ],
   "source": [
    "df.info()"
   ]
  },
  {
   "cell_type": "raw",
   "id": "193aae93-8663-4b7a-bc82-d00808caaf73",
   "metadata": {},
   "source": [
    "There are no empty values in dataset"
   ]
  },
  {
   "cell_type": "code",
   "execution_count": 5,
   "id": "ea3a61d9-8e89-4ce1-95d2-c7805f8c458a",
   "metadata": {},
   "outputs": [
    {
     "data": {
      "text/plain": [
       "game_id              0\n",
       "rated                0\n",
       "turns                0\n",
       "victory_status       0\n",
       "winner               0\n",
       "time_increment       0\n",
       "white_id             0\n",
       "white_rating         0\n",
       "black_id             0\n",
       "black_rating         0\n",
       "opening_fullname     0\n",
       "opening_shortname    0\n",
       "dtype: int64"
      ]
     },
     "execution_count": 5,
     "metadata": {},
     "output_type": "execute_result"
    }
   ],
   "source": [
    "df.isnull().sum()"
   ]
  },
  {
   "cell_type": "code",
   "execution_count": 6,
   "id": "d06681e7-981b-4ca2-a406-7a60a98e1bfc",
   "metadata": {},
   "outputs": [
    {
     "data": {
      "text/plain": [
       "(20058, 12)"
      ]
     },
     "execution_count": 6,
     "metadata": {},
     "output_type": "execute_result"
    }
   ],
   "source": [
    "df.shape"
   ]
  },
  {
   "cell_type": "code",
   "execution_count": 7,
   "id": "a3b982fa-28f9-4d04-80d0-a17eed65e48a",
   "metadata": {},
   "outputs": [
    {
     "data": {
      "text/plain": [
       "array(['Slav Defense: Exchange Variation',\n",
       "       'Nimzowitsch Defense: Kennedy Variation',\n",
       "       \"King's Pawn Game: Leonardis Variation\", ...,\n",
       "       \"Queen's Indian Defense: Classical Variation |  Traditional Variation\",\n",
       "       \"Queen's Gambit Declined: Slav |  Dutch Variation\",\n",
       "       'Sicilian Defense: Najdorf Variation |  Polugaevsky Variation'],\n",
       "      dtype=object)"
      ]
     },
     "execution_count": 7,
     "metadata": {},
     "output_type": "execute_result"
    }
   ],
   "source": [
    "df.opening_fullname.unique()"
   ]
  },
  {
   "cell_type": "raw",
   "id": "302119d8-be69-45a7-b7af-fa8196c48d11",
   "metadata": {},
   "source": [
    "Since, this column consist of opening game name and its variation. We won't be using this to answer our business questions."
   ]
  },
  {
   "cell_type": "code",
   "execution_count": 8,
   "id": "8f4e6791-35e0-4d70-b5b1-f7b4d27277f6",
   "metadata": {},
   "outputs": [
    {
     "data": {
      "text/plain": [
       "1477"
      ]
     },
     "execution_count": 8,
     "metadata": {},
     "output_type": "execute_result"
    }
   ],
   "source": [
    "df.opening_fullname.unique().size"
   ]
  },
  {
   "cell_type": "code",
   "execution_count": 9,
   "id": "a7b88c21-3ffc-4d90-9142-54895b61268c",
   "metadata": {},
   "outputs": [
    {
     "data": {
      "text/plain": [
       "array(['Slav Defense', 'Nimzowitsch Defense', \"King's Pawn Game\",\n",
       "       \"Queen's Pawn Game\", 'Philidor Defense', 'Sicilian Defense',\n",
       "       'Blackmar-Diemer Gambit', 'Italian Game', 'Scandinavian Defense',\n",
       "       \"Van't Kruijs Opening\", 'French Defense', 'Four Knights Game',\n",
       "       'Horwitz Defense', 'English Opening', 'Scotch Game',\n",
       "       \"Queen's Gambit\", 'Robatsch (Modern) Defense', 'Indian Game',\n",
       "       'Dutch Defense', 'Zukertort Opening', 'Vienna Game',\n",
       "       'Modern Defense', 'Blumenfeld Countergambit', \"Queen's Pawn\",\n",
       "       'Crab Opening', \"Queen's Indian Defense\", 'Gruenfeld Defense',\n",
       "       'Yusupov-Rubinstein System', 'Ruy Lopez', \"Bishop's Opening\",\n",
       "       'Benoni Defense', \"King's Indian Attack\", 'Alekhine Defense',\n",
       "       'Caro-Kann Defense', 'Goldsmith Defense', 'Nimzo-Indian Defense',\n",
       "       'Bogo-Indian Defense', \"King's Knight Opening\", 'Amar Opening',\n",
       "       'Paleface Attack', 'Hungarian Opening', 'Center Game',\n",
       "       'Englund Gambit', 'Giuoco Piano', \"Petrov's Defense\",\n",
       "       'Russian Game', 'Pirc Defense', 'St. George Defense',\n",
       "       'Bird Opening', 'Owen Defense', 'Semi-Slav Defense',\n",
       "       'English Defense', \"King's Gambit\", \"King's Pawn Opening\",\n",
       "       'Polish Opening', 'Ponziani Opening', 'East Indian Defense',\n",
       "       'Reti Opening', 'Nimzo-Larsen Attack', 'Torre Attack',\n",
       "       'Creepy Crawly Formation', 'Elephant Gambit', 'Latvian Gambit',\n",
       "       'Global Opening', 'Trompowsky Attack', 'London System',\n",
       "       'Danish Gambit', 'Mieses Opening', 'Carr Defense',\n",
       "       \"King's Indian Defense\", 'Three Knights Opening', 'Ware Opening',\n",
       "       'Budapest Defense', 'Richter-Veresov Attack',\n",
       "       'Franco-Benoni Defense', 'Van Geet Opening', 'Polish Defense',\n",
       "       'Old Benoni Defense', 'Kadas Opening', 'System', 'Rat Defense',\n",
       "       'Englund Gambit Complex', \"Gedult's Opening\", 'Colle System',\n",
       "       'Nimzowitsch-Larsen Attack', 'Neo-Gruenfeld Defense',\n",
       "       'Grob Opening', 'Mikenas Defense', 'Tarrasch Defense',\n",
       "       'Old Indian Defense', 'Anderssen Opening', 'Portuguese Opening',\n",
       "       'Old Indian', \"King's Pawn\", 'Irish Gambit',\n",
       "       \"Queen's Pawn Opening\", 'Clemenz Opening', 'Mexican Defense',\n",
       "       'Barnes Defense', 'Saragossa Opening', 'Duras Gambit',\n",
       "       'Gunderam Defense', 'Hippopotamus Defense', 'Catalan Opening',\n",
       "       'Lion Defense', 'Guatemala Defense', 'Borg Defense',\n",
       "       'Sodium Attack', 'Doery Defense', 'Benko Gambit', 'Amazon Attack',\n",
       "       'Wade Defense', 'Kangaroo Defense', 'Semi-Bononi', 'Slav Indian',\n",
       "       'Petrov', 'Lemming Defense', \"Queen's Indian Accelerated\",\n",
       "       'Australian Defense', 'Ware Defense', 'Valencia Opening',\n",
       "       'Scotch Gambit', 'Czech Defense', \"King's Indian\",\n",
       "       'Barnes Opening', 'Canard Opening', 'Pterodactyl Defense',\n",
       "       'Rubinstein Opening'], dtype=object)"
      ]
     },
     "execution_count": 9,
     "metadata": {},
     "output_type": "execute_result"
    }
   ],
   "source": [
    "df.opening_shortname.unique()"
   ]
  },
  {
   "cell_type": "raw",
   "id": "ed5acf58-29b8-42ac-b4a3-3824d8248729",
   "metadata": {},
   "source": [
    "This consist of unique opening game name for whole dataset."
   ]
  },
  {
   "cell_type": "code",
   "execution_count": 10,
   "id": "4351898c-7121-4664-a3ab-5086add384e7",
   "metadata": {},
   "outputs": [
    {
     "data": {
      "text/plain": [
       "128"
      ]
     },
     "execution_count": 10,
     "metadata": {},
     "output_type": "execute_result"
    }
   ],
   "source": [
    "df.opening_shortname.unique().size"
   ]
  },
  {
   "cell_type": "code",
   "execution_count": 11,
   "id": "b07ad51f-f523-4b6b-8e70-14d9bbd5bb98",
   "metadata": {},
   "outputs": [
    {
     "data": {
      "text/plain": [
       "array(['bourgris', 'a-00', 'ischia', ..., 'samael88', 'belcolt',\n",
       "       'marcodisogno'], dtype=object)"
      ]
     },
     "execution_count": 11,
     "metadata": {},
     "output_type": "execute_result"
    }
   ],
   "source": [
    "df.white_id.unique()"
   ]
  },
  {
   "cell_type": "code",
   "execution_count": 12,
   "id": "baf1010e-dc87-4e2e-81f9-22090a0c5a51",
   "metadata": {},
   "outputs": [
    {
     "data": {
      "text/plain": [
       "9438"
      ]
     },
     "execution_count": 12,
     "metadata": {},
     "output_type": "execute_result"
    }
   ],
   "source": [
    "df.white_id.unique().size"
   ]
  },
  {
   "cell_type": "code",
   "execution_count": 13,
   "id": "924c5ce8-2bb9-48ba-a7c9-3e7a53de541c",
   "metadata": {},
   "outputs": [
    {
     "data": {
      "text/plain": [
       "array(['a-00', 'skinnerua', 'adivanov2009', ..., 'farrukhasomiddinov',\n",
       "       'schaaksmurf3', 'ffbob'], dtype=object)"
      ]
     },
     "execution_count": 13,
     "metadata": {},
     "output_type": "execute_result"
    }
   ],
   "source": [
    "df.black_id.unique()"
   ]
  },
  {
   "cell_type": "code",
   "execution_count": 14,
   "id": "ccaae54f-817b-4459-b409-272050bce755",
   "metadata": {},
   "outputs": [
    {
     "data": {
      "text/plain": [
       "9331"
      ]
     },
     "execution_count": 14,
     "metadata": {},
     "output_type": "execute_result"
    }
   ],
   "source": [
    "df.black_id.unique().size"
   ]
  },
  {
   "cell_type": "code",
   "execution_count": 15,
   "id": "08911859-15f8-469a-973d-79c07d8abd75",
   "metadata": {},
   "outputs": [
    {
     "data": {
      "text/html": [
       "<div>\n",
       "<style scoped>\n",
       "    .dataframe tbody tr th:only-of-type {\n",
       "        vertical-align: middle;\n",
       "    }\n",
       "\n",
       "    .dataframe tbody tr th {\n",
       "        vertical-align: top;\n",
       "    }\n",
       "\n",
       "    .dataframe thead th {\n",
       "        text-align: right;\n",
       "    }\n",
       "</style>\n",
       "<table border=\"1\" class=\"dataframe\">\n",
       "  <thead>\n",
       "    <tr style=\"text-align: right;\">\n",
       "      <th></th>\n",
       "      <th>game_id</th>\n",
       "      <th>turns</th>\n",
       "      <th>white_rating</th>\n",
       "      <th>black_rating</th>\n",
       "    </tr>\n",
       "  </thead>\n",
       "  <tbody>\n",
       "    <tr>\n",
       "      <th>count</th>\n",
       "      <td>20058.000000</td>\n",
       "      <td>20058.000000</td>\n",
       "      <td>20058.000000</td>\n",
       "      <td>20058.000000</td>\n",
       "    </tr>\n",
       "    <tr>\n",
       "      <th>mean</th>\n",
       "      <td>10029.500000</td>\n",
       "      <td>60.465999</td>\n",
       "      <td>1596.631868</td>\n",
       "      <td>1588.831987</td>\n",
       "    </tr>\n",
       "    <tr>\n",
       "      <th>std</th>\n",
       "      <td>5790.390185</td>\n",
       "      <td>33.570585</td>\n",
       "      <td>291.253376</td>\n",
       "      <td>291.036126</td>\n",
       "    </tr>\n",
       "    <tr>\n",
       "      <th>min</th>\n",
       "      <td>1.000000</td>\n",
       "      <td>1.000000</td>\n",
       "      <td>784.000000</td>\n",
       "      <td>789.000000</td>\n",
       "    </tr>\n",
       "    <tr>\n",
       "      <th>25%</th>\n",
       "      <td>5015.250000</td>\n",
       "      <td>37.000000</td>\n",
       "      <td>1398.000000</td>\n",
       "      <td>1391.000000</td>\n",
       "    </tr>\n",
       "    <tr>\n",
       "      <th>50%</th>\n",
       "      <td>10029.500000</td>\n",
       "      <td>55.000000</td>\n",
       "      <td>1567.000000</td>\n",
       "      <td>1562.000000</td>\n",
       "    </tr>\n",
       "    <tr>\n",
       "      <th>75%</th>\n",
       "      <td>15043.750000</td>\n",
       "      <td>79.000000</td>\n",
       "      <td>1793.000000</td>\n",
       "      <td>1784.000000</td>\n",
       "    </tr>\n",
       "    <tr>\n",
       "      <th>max</th>\n",
       "      <td>20058.000000</td>\n",
       "      <td>349.000000</td>\n",
       "      <td>2700.000000</td>\n",
       "      <td>2723.000000</td>\n",
       "    </tr>\n",
       "  </tbody>\n",
       "</table>\n",
       "</div>"
      ],
      "text/plain": [
       "            game_id         turns  white_rating  black_rating\n",
       "count  20058.000000  20058.000000  20058.000000  20058.000000\n",
       "mean   10029.500000     60.465999   1596.631868   1588.831987\n",
       "std     5790.390185     33.570585    291.253376    291.036126\n",
       "min        1.000000      1.000000    784.000000    789.000000\n",
       "25%     5015.250000     37.000000   1398.000000   1391.000000\n",
       "50%    10029.500000     55.000000   1567.000000   1562.000000\n",
       "75%    15043.750000     79.000000   1793.000000   1784.000000\n",
       "max    20058.000000    349.000000   2700.000000   2723.000000"
      ]
     },
     "execution_count": 15,
     "metadata": {},
     "output_type": "execute_result"
    }
   ],
   "source": [
    "df.describe()"
   ]
  },
  {
   "cell_type": "code",
   "execution_count": 16,
   "id": "3bb5a87f-289e-459a-b322-f6d9f461c706",
   "metadata": {},
   "outputs": [
    {
     "data": {
      "text/plain": [
       "0               Slav Defense\n",
       "1        Nimzowitsch Defense\n",
       "2           King's Pawn Game\n",
       "3          Queen's Pawn Game\n",
       "4           Philidor Defense\n",
       "                ...         \n",
       "20053          Dutch Defense\n",
       "20054           Queen's Pawn\n",
       "20055      Queen's Pawn Game\n",
       "20056           Pirc Defense\n",
       "20057      Queen's Pawn Game\n",
       "Name: opening_shortname, Length: 20058, dtype: object"
      ]
     },
     "execution_count": 16,
     "metadata": {},
     "output_type": "execute_result"
    }
   ],
   "source": [
    "df['opening_shortname'].astype(str)"
   ]
  },
  {
   "cell_type": "markdown",
   "id": "a80c7671-5b5c-49cc-a3d3-e5dc05bb5b04",
   "metadata": {},
   "source": [
    "## Dataset Visualization"
   ]
  },
  {
   "cell_type": "markdown",
   "id": "708d94c5-8b88-4f86-b15d-0ff7ed299b4b",
   "metadata": {},
   "source": [
    "## Q1. Which is the most played chess opening?"
   ]
  },
  {
   "cell_type": "code",
   "execution_count": 17,
   "id": "63ba6547-81f8-4746-8a24-cc08d488eec6",
   "metadata": {},
   "outputs": [],
   "source": [
    "gameopenings = df.groupby('opening_shortname')[['game_id']].count()"
   ]
  },
  {
   "cell_type": "code",
   "execution_count": 18,
   "id": "93bad001-6dab-49cc-a747-a84dc9e2940e",
   "metadata": {},
   "outputs": [],
   "source": [
    "gameopenings = gameopenings.sort_values('game_id',ascending = False).reset_index()\n",
    "gameopenings.rename(columns={'game_id':'Total','opening_shortname':'Opening Observed'},inplace=True)"
   ]
  },
  {
   "cell_type": "code",
   "execution_count": 19,
   "id": "18efc175-881e-4fa2-81ef-5426eaf1326f",
   "metadata": {},
   "outputs": [
    {
     "data": {
      "text/html": [
       "<div>\n",
       "<style scoped>\n",
       "    .dataframe tbody tr th:only-of-type {\n",
       "        vertical-align: middle;\n",
       "    }\n",
       "\n",
       "    .dataframe tbody tr th {\n",
       "        vertical-align: top;\n",
       "    }\n",
       "\n",
       "    .dataframe thead th {\n",
       "        text-align: right;\n",
       "    }\n",
       "</style>\n",
       "<table border=\"1\" class=\"dataframe\">\n",
       "  <thead>\n",
       "    <tr style=\"text-align: right;\">\n",
       "      <th></th>\n",
       "      <th>Opening Observed</th>\n",
       "      <th>Total</th>\n",
       "    </tr>\n",
       "  </thead>\n",
       "  <tbody>\n",
       "    <tr>\n",
       "      <th>0</th>\n",
       "      <td>Sicilian Defense</td>\n",
       "      <td>2632</td>\n",
       "    </tr>\n",
       "    <tr>\n",
       "      <th>1</th>\n",
       "      <td>French Defense</td>\n",
       "      <td>1412</td>\n",
       "    </tr>\n",
       "    <tr>\n",
       "      <th>2</th>\n",
       "      <td>Queen's Pawn Game</td>\n",
       "      <td>1233</td>\n",
       "    </tr>\n",
       "    <tr>\n",
       "      <th>3</th>\n",
       "      <td>Italian Game</td>\n",
       "      <td>981</td>\n",
       "    </tr>\n",
       "    <tr>\n",
       "      <th>4</th>\n",
       "      <td>King's Pawn Game</td>\n",
       "      <td>917</td>\n",
       "    </tr>\n",
       "    <tr>\n",
       "      <th>5</th>\n",
       "      <td>Queen's Gambit</td>\n",
       "      <td>912</td>\n",
       "    </tr>\n",
       "    <tr>\n",
       "      <th>6</th>\n",
       "      <td>Ruy Lopez</td>\n",
       "      <td>858</td>\n",
       "    </tr>\n",
       "    <tr>\n",
       "      <th>7</th>\n",
       "      <td>English Opening</td>\n",
       "      <td>720</td>\n",
       "    </tr>\n",
       "    <tr>\n",
       "      <th>8</th>\n",
       "      <td>Scandinavian Defense</td>\n",
       "      <td>716</td>\n",
       "    </tr>\n",
       "    <tr>\n",
       "      <th>9</th>\n",
       "      <td>Philidor Defense</td>\n",
       "      <td>691</td>\n",
       "    </tr>\n",
       "  </tbody>\n",
       "</table>\n",
       "</div>"
      ],
      "text/plain": [
       "       Opening Observed  Total\n",
       "0      Sicilian Defense   2632\n",
       "1        French Defense   1412\n",
       "2     Queen's Pawn Game   1233\n",
       "3          Italian Game    981\n",
       "4      King's Pawn Game    917\n",
       "5        Queen's Gambit    912\n",
       "6             Ruy Lopez    858\n",
       "7       English Opening    720\n",
       "8  Scandinavian Defense    716\n",
       "9      Philidor Defense    691"
      ]
     },
     "execution_count": 19,
     "metadata": {},
     "output_type": "execute_result"
    }
   ],
   "source": [
    "gameopenings.head(10)"
   ]
  },
  {
   "cell_type": "code",
   "execution_count": 20,
   "id": "8137ca60-33a8-49af-8dd2-0c175ed67cf4",
   "metadata": {},
   "outputs": [
    {
     "data": {
      "text/plain": [
       "128"
      ]
     },
     "execution_count": 20,
     "metadata": {},
     "output_type": "execute_result"
    }
   ],
   "source": [
    "labels=list(gameopenings['Opening Observed'])\n",
    "len(labels)"
   ]
  },
  {
   "cell_type": "code",
   "execution_count": 21,
   "id": "b7c73f68-a579-4397-8e03-05677862aacb",
   "metadata": {},
   "outputs": [
    {
     "data": {
      "text/html": [
       "<div>\n",
       "<style scoped>\n",
       "    .dataframe tbody tr th:only-of-type {\n",
       "        vertical-align: middle;\n",
       "    }\n",
       "\n",
       "    .dataframe tbody tr th {\n",
       "        vertical-align: top;\n",
       "    }\n",
       "\n",
       "    .dataframe thead th {\n",
       "        text-align: right;\n",
       "    }\n",
       "</style>\n",
       "<table border=\"1\" class=\"dataframe\">\n",
       "  <thead>\n",
       "    <tr style=\"text-align: right;\">\n",
       "      <th></th>\n",
       "      <th>Opening Observed</th>\n",
       "      <th>Total</th>\n",
       "    </tr>\n",
       "  </thead>\n",
       "  <tbody>\n",
       "    <tr>\n",
       "      <th>0</th>\n",
       "      <td>Sicilian Defense</td>\n",
       "      <td>2632</td>\n",
       "    </tr>\n",
       "    <tr>\n",
       "      <th>1</th>\n",
       "      <td>French Defense</td>\n",
       "      <td>1412</td>\n",
       "    </tr>\n",
       "    <tr>\n",
       "      <th>2</th>\n",
       "      <td>Queen's Pawn Game</td>\n",
       "      <td>1233</td>\n",
       "    </tr>\n",
       "    <tr>\n",
       "      <th>3</th>\n",
       "      <td>Italian Game</td>\n",
       "      <td>981</td>\n",
       "    </tr>\n",
       "    <tr>\n",
       "      <th>4</th>\n",
       "      <td>King's Pawn Game</td>\n",
       "      <td>917</td>\n",
       "    </tr>\n",
       "    <tr>\n",
       "      <th>5</th>\n",
       "      <td>Queen's Gambit</td>\n",
       "      <td>912</td>\n",
       "    </tr>\n",
       "    <tr>\n",
       "      <th>6</th>\n",
       "      <td>Ruy Lopez</td>\n",
       "      <td>858</td>\n",
       "    </tr>\n",
       "    <tr>\n",
       "      <th>7</th>\n",
       "      <td>English Opening</td>\n",
       "      <td>720</td>\n",
       "    </tr>\n",
       "    <tr>\n",
       "      <th>8</th>\n",
       "      <td>Scandinavian Defense</td>\n",
       "      <td>716</td>\n",
       "    </tr>\n",
       "    <tr>\n",
       "      <th>9</th>\n",
       "      <td>Philidor Defense</td>\n",
       "      <td>691</td>\n",
       "    </tr>\n",
       "  </tbody>\n",
       "</table>\n",
       "</div>"
      ],
      "text/plain": [
       "       Opening Observed  Total\n",
       "0      Sicilian Defense   2632\n",
       "1        French Defense   1412\n",
       "2     Queen's Pawn Game   1233\n",
       "3          Italian Game    981\n",
       "4      King's Pawn Game    917\n",
       "5        Queen's Gambit    912\n",
       "6             Ruy Lopez    858\n",
       "7       English Opening    720\n",
       "8  Scandinavian Defense    716\n",
       "9      Philidor Defense    691"
      ]
     },
     "execution_count": 21,
     "metadata": {},
     "output_type": "execute_result"
    }
   ],
   "source": [
    "gameopenings = gameopenings.iloc[0:10, :]\n",
    "gameopenings"
   ]
  },
  {
   "cell_type": "code",
   "execution_count": 22,
   "id": "999a5922-d650-4cb7-a694-4a7f00688129",
   "metadata": {},
   "outputs": [],
   "source": [
    "labels=list(gameopenings['Opening Observed'])"
   ]
  },
  {
   "cell_type": "code",
   "execution_count": 23,
   "id": "f6e420d1-3579-4458-be46-f37de6e317b4",
   "metadata": {
    "scrolled": false
   },
   "outputs": [
    {
     "data": {
      "image/png": "[encoded data removed]",
      "text/plain": [
       "<Figure size 1440x720 with 1 Axes>"
      ]
     },
     "metadata": {
      "needs_background": "light"
     },
     "output_type": "display_data"
    }
   ],
   "source": [
    "plt.figure(figsize=(20,10))\n",
    "#plt.grid()\n",
    "plt.title('Popular Openings for Chess Game',fontweight='bold',fontsize=25)\n",
    "barplot = sns.barplot(x='Total',y='Opening Observed',data=gameopenings,color='blue');\n",
    "barplot.set_xlabel(\"Number of Matches Played\", fontweight='bold',fontsize = 20);\n",
    "barplot.set_ylabel(\"Opening Observed\", fontweight='bold', fontsize = 20);\n",
    "#=============\n",
    "barplot.annotate(2632, xy=(2632, 0), fontsize = 15)\n",
    "barplot.annotate(1412, xy=(1412, 1), fontsize = 15)\n",
    "barplot.annotate(1233, xy=(1233, 2), fontsize = 15)\n",
    "barplot.annotate(981, xy=(981, 3), fontsize = 15)\n",
    "barplot.annotate(917, xy=(917, 4), fontsize = 15)\n",
    "barplot.annotate(912, xy=(912, 5), fontsize = 15)\n",
    "barplot.annotate(858, xy=(858, 6), fontsize = 15)\n",
    "barplot.annotate(720, xy=(720, 7), fontsize = 15)\n",
    "barplot.annotate(716, xy=(716, 8), fontsize = 15)\n",
    "barplot.annotate(691, xy=(691, 9), fontsize = 15)\n",
    "#=============\n",
    "plt.tick_params(labelsize=15)\n",
    "plt.show()"
   ]
  },
  {
   "cell_type": "raw",
   "id": "c29d642f",
   "metadata": {},
   "source": [
    "Sicilian Defense is the most played opening in chess. "
   ]
  },
  {
   "cell_type": "markdown",
   "id": "728b4046-3874-47be-b844-15dbdf0cda8f",
   "metadata": {
    "tags": []
   },
   "source": [
    "## Q2. How did most of the games concluded?"
   ]
  },
  {
   "cell_type": "code",
   "execution_count": 24,
   "id": "7a754f0b-63cd-4298-b7a6-75442c83990e",
   "metadata": {},
   "outputs": [
    {
     "data": {
      "text/html": [
       "<div>\n",
       "<style scoped>\n",
       "    .dataframe tbody tr th:only-of-type {\n",
       "        vertical-align: middle;\n",
       "    }\n",
       "\n",
       "    .dataframe tbody tr th {\n",
       "        vertical-align: top;\n",
       "    }\n",
       "\n",
       "    .dataframe thead th {\n",
       "        text-align: right;\n",
       "    }\n",
       "</style>\n",
       "<table border=\"1\" class=\"dataframe\">\n",
       "  <thead>\n",
       "    <tr style=\"text-align: right;\">\n",
       "      <th></th>\n",
       "      <th>game_id</th>\n",
       "    </tr>\n",
       "    <tr>\n",
       "      <th>victory_status</th>\n",
       "      <th></th>\n",
       "    </tr>\n",
       "  </thead>\n",
       "  <tbody>\n",
       "    <tr>\n",
       "      <th>Draw</th>\n",
       "      <td>906</td>\n",
       "    </tr>\n",
       "    <tr>\n",
       "      <th>Mate</th>\n",
       "      <td>6325</td>\n",
       "    </tr>\n",
       "    <tr>\n",
       "      <th>Out of Time</th>\n",
       "      <td>1680</td>\n",
       "    </tr>\n",
       "    <tr>\n",
       "      <th>Resign</th>\n",
       "      <td>11147</td>\n",
       "    </tr>\n",
       "  </tbody>\n",
       "</table>\n",
       "</div>"
      ],
      "text/plain": [
       "                game_id\n",
       "victory_status         \n",
       "Draw                906\n",
       "Mate               6325\n",
       "Out of Time        1680\n",
       "Resign            11147"
      ]
     },
     "execution_count": 24,
     "metadata": {},
     "output_type": "execute_result"
    }
   ],
   "source": [
    "finale = df.groupby('victory_status')[['game_id']].count()\n",
    "finale.head()"
   ]
  },
  {
   "cell_type": "code",
   "execution_count": 25,
   "id": "a29ec599-e9aa-4559-a06b-9c328c32fb7a",
   "metadata": {},
   "outputs": [
    {
     "data": {
      "text/html": [
       "<div>\n",
       "<style scoped>\n",
       "    .dataframe tbody tr th:only-of-type {\n",
       "        vertical-align: middle;\n",
       "    }\n",
       "\n",
       "    .dataframe tbody tr th {\n",
       "        vertical-align: top;\n",
       "    }\n",
       "\n",
       "    .dataframe thead th {\n",
       "        text-align: right;\n",
       "    }\n",
       "</style>\n",
       "<table border=\"1\" class=\"dataframe\">\n",
       "  <thead>\n",
       "    <tr style=\"text-align: right;\">\n",
       "      <th></th>\n",
       "      <th>Conclusion</th>\n",
       "      <th>Total</th>\n",
       "    </tr>\n",
       "  </thead>\n",
       "  <tbody>\n",
       "    <tr>\n",
       "      <th>0</th>\n",
       "      <td>Resign</td>\n",
       "      <td>11147</td>\n",
       "    </tr>\n",
       "    <tr>\n",
       "      <th>1</th>\n",
       "      <td>Mate</td>\n",
       "      <td>6325</td>\n",
       "    </tr>\n",
       "    <tr>\n",
       "      <th>2</th>\n",
       "      <td>Out of Time</td>\n",
       "      <td>1680</td>\n",
       "    </tr>\n",
       "    <tr>\n",
       "      <th>3</th>\n",
       "      <td>Draw</td>\n",
       "      <td>906</td>\n",
       "    </tr>\n",
       "  </tbody>\n",
       "</table>\n",
       "</div>"
      ],
      "text/plain": [
       "    Conclusion  Total\n",
       "0       Resign  11147\n",
       "1         Mate   6325\n",
       "2  Out of Time   1680\n",
       "3         Draw    906"
      ]
     },
     "execution_count": 25,
     "metadata": {},
     "output_type": "execute_result"
    }
   ],
   "source": [
    "finale = finale.sort_values('game_id',ascending = False).reset_index()\n",
    "finale.rename(columns={'game_id':'Total','victory_status':'Conclusion'},inplace=True)\n",
    "finale.head()"
   ]
  },
  {
   "cell_type": "code",
   "execution_count": 26,
   "id": "73822d63-83b4-400c-8fd2-944400d7eb05",
   "metadata": {},
   "outputs": [],
   "source": [
    "labels = list(finale['Conclusion'])"
   ]
  },
  {
   "cell_type": "code",
   "execution_count": 27,
   "id": "bc91a59d-9aa7-483f-b492-96cb3b33e422",
   "metadata": {},
   "outputs": [
    {
     "data": {
      "image/png": "[encoded data removed]",
      "text/plain": [
       "<Figure size 504x504 with 1 Axes>"
      ]
     },
     "metadata": {},
     "output_type": "display_data"
    }
   ],
   "source": [
    "x = [11147, 6325, 1680, 906]\n",
    "name = ['Resign', 'Mate', 'Out of Time', 'Draw']\n",
    "fig, ax = plt.subplots(figsize=(7,7))\n",
    "ax.pie(x, labels=name, autopct='%.1f%%', textprops={'fontsize': 13},wedgeprops={'linewidth': 2.0, 'edgecolor': 'white'})\n",
    "ax.set_title('Game Conclusion',fontweight='bold',fontsize=25)\n",
    "plt.tight_layout()"
   ]
  },
  {
   "cell_type": "raw",
   "id": "1d3fd03a-41bf-44d3-9fa0-2f0d22bbcd47",
   "metadata": {},
   "source": [
    "Most of the games ended in resignation of a player."
   ]
  },
  {
   "cell_type": "markdown",
   "id": "73b95a60-fcb1-4f28-aee5-ef75e8a36ebc",
   "metadata": {},
   "source": [
    "## Q3. What is the distribution of number of turns played in a match?"
   ]
  },
  {
   "cell_type": "code",
   "execution_count": 28,
   "id": "6c122113-1b49-4714-939f-5e91524550d2",
   "metadata": {},
   "outputs": [
    {
     "data": {
      "text/html": [
       "<div>\n",
       "<style scoped>\n",
       "    .dataframe tbody tr th:only-of-type {\n",
       "        vertical-align: middle;\n",
       "    }\n",
       "\n",
       "    .dataframe tbody tr th {\n",
       "        vertical-align: top;\n",
       "    }\n",
       "\n",
       "    .dataframe thead th {\n",
       "        text-align: right;\n",
       "    }\n",
       "</style>\n",
       "<table border=\"1\" class=\"dataframe\">\n",
       "  <thead>\n",
       "    <tr style=\"text-align: right;\">\n",
       "      <th></th>\n",
       "      <th>game_id</th>\n",
       "    </tr>\n",
       "    <tr>\n",
       "      <th>turns</th>\n",
       "      <th></th>\n",
       "    </tr>\n",
       "  </thead>\n",
       "  <tbody>\n",
       "    <tr>\n",
       "      <th>1</th>\n",
       "      <td>18</td>\n",
       "    </tr>\n",
       "    <tr>\n",
       "      <th>2</th>\n",
       "      <td>185</td>\n",
       "    </tr>\n",
       "    <tr>\n",
       "      <th>3</th>\n",
       "      <td>87</td>\n",
       "    </tr>\n",
       "    <tr>\n",
       "      <th>4</th>\n",
       "      <td>52</td>\n",
       "    </tr>\n",
       "    <tr>\n",
       "      <th>5</th>\n",
       "      <td>40</td>\n",
       "    </tr>\n",
       "  </tbody>\n",
       "</table>\n",
       "</div>"
      ],
      "text/plain": [
       "       game_id\n",
       "turns         \n",
       "1           18\n",
       "2          185\n",
       "3           87\n",
       "4           52\n",
       "5           40"
      ]
     },
     "execution_count": 28,
     "metadata": {},
     "output_type": "execute_result"
    }
   ],
   "source": [
    "numberofturns = df.groupby('turns')[['game_id']].count()\n",
    "numberofturns.head()"
   ]
  },
  {
   "cell_type": "code",
   "execution_count": 29,
   "id": "307eec58-cd71-4696-aa8b-44d0c4b83e0f",
   "metadata": {},
   "outputs": [
    {
     "data": {
      "text/plain": [
       "<bound method DataFrame.info of        game_id\n",
       "turns         \n",
       "1           18\n",
       "2          185\n",
       "3           87\n",
       "4           52\n",
       "5           40\n",
       "...        ...\n",
       "222          2\n",
       "226          1\n",
       "255          1\n",
       "259          1\n",
       "349          2\n",
       "\n",
       "[211 rows x 1 columns]>"
      ]
     },
     "execution_count": 29,
     "metadata": {},
     "output_type": "execute_result"
    }
   ],
   "source": [
    "numberofturns.info"
   ]
  },
  {
   "cell_type": "code",
   "execution_count": 30,
   "id": "48143483-e60e-404e-a0ee-b73648b2d6ee",
   "metadata": {},
   "outputs": [
    {
     "data": {
      "image/png": "[encoded data removed]",
      "text/plain": [
       "<Figure size 1440x720 with 1 Axes>"
      ]
     },
     "metadata": {
      "needs_background": "light"
     },
     "output_type": "display_data"
    }
   ],
   "source": [
    "lines = numberofturns.plot.line(color = 'blue',figsize=(20,10))\n",
    "plt.title(\"Distribution of # of turns\",fontweight='bold',fontsize = 25)\n",
    "lines.set_xlabel(\"# of Turns\", fontsize = 15);\n",
    "lines.set_ylabel(\"# of Games\", fontsize = 15);\n",
    "#plt.grid()"
   ]
  },
  {
   "cell_type": "code",
   "execution_count": 31,
   "id": "a6c092fd-fd5d-46c0-9b6d-fdb00f4171f0",
   "metadata": {},
   "outputs": [
    {
     "data": {
      "text/html": [
       "<div>\n",
       "<style scoped>\n",
       "    .dataframe tbody tr th:only-of-type {\n",
       "        vertical-align: middle;\n",
       "    }\n",
       "\n",
       "    .dataframe tbody tr th {\n",
       "        vertical-align: top;\n",
       "    }\n",
       "\n",
       "    .dataframe thead th {\n",
       "        text-align: right;\n",
       "    }\n",
       "</style>\n",
       "<table border=\"1\" class=\"dataframe\">\n",
       "  <thead>\n",
       "    <tr style=\"text-align: right;\">\n",
       "      <th></th>\n",
       "      <th>game_id</th>\n",
       "    </tr>\n",
       "  </thead>\n",
       "  <tbody>\n",
       "    <tr>\n",
       "      <th>count</th>\n",
       "      <td>211.000000</td>\n",
       "    </tr>\n",
       "    <tr>\n",
       "      <th>mean</th>\n",
       "      <td>95.061611</td>\n",
       "    </tr>\n",
       "    <tr>\n",
       "      <th>std</th>\n",
       "      <td>93.972645</td>\n",
       "    </tr>\n",
       "    <tr>\n",
       "      <th>min</th>\n",
       "      <td>1.000000</td>\n",
       "    </tr>\n",
       "    <tr>\n",
       "      <th>25%</th>\n",
       "      <td>11.000000</td>\n",
       "    </tr>\n",
       "    <tr>\n",
       "      <th>50%</th>\n",
       "      <td>65.000000</td>\n",
       "    </tr>\n",
       "    <tr>\n",
       "      <th>75%</th>\n",
       "      <td>159.500000</td>\n",
       "    </tr>\n",
       "    <tr>\n",
       "      <th>max</th>\n",
       "      <td>303.000000</td>\n",
       "    </tr>\n",
       "  </tbody>\n",
       "</table>\n",
       "</div>"
      ],
      "text/plain": [
       "          game_id\n",
       "count  211.000000\n",
       "mean    95.061611\n",
       "std     93.972645\n",
       "min      1.000000\n",
       "25%     11.000000\n",
       "50%     65.000000\n",
       "75%    159.500000\n",
       "max    303.000000"
      ]
     },
     "execution_count": 31,
     "metadata": {},
     "output_type": "execute_result"
    }
   ],
   "source": [
    "numberofturns.describe()"
   ]
  },
  {
   "cell_type": "raw",
   "id": "0086b6d7",
   "metadata": {},
   "source": [
    "More than half of the matches ended within first 65 moves of the game. "
   ]
  },
  {
   "cell_type": "markdown",
   "id": "0e33a0e9-cf47-44a1-a82f-01dfc93a9638",
   "metadata": {},
   "source": [
    "## Q4. Which color is likely to win more games?"
   ]
  },
  {
   "cell_type": "code",
   "execution_count": 32,
   "id": "e79b27e2-810e-4e28-bdd0-d52f15da01e9",
   "metadata": {},
   "outputs": [
    {
     "data": {
      "text/plain": [
       "array(['White', 'Black', 'Draw'], dtype=object)"
      ]
     },
     "execution_count": 32,
     "metadata": {},
     "output_type": "execute_result"
    }
   ],
   "source": [
    "df.winner.unique()"
   ]
  },
  {
   "cell_type": "code",
   "execution_count": 33,
   "id": "2cedcd02-d5d9-426e-80b0-69deff4a7f5f",
   "metadata": {},
   "outputs": [],
   "source": [
    "colorwins = df.groupby('winner')[['game_id']].count()"
   ]
  },
  {
   "cell_type": "code",
   "execution_count": 34,
   "id": "8f52aaa0-e58b-4943-96b5-ffff3700db01",
   "metadata": {},
   "outputs": [
    {
     "data": {
      "text/html": [
       "<div>\n",
       "<style scoped>\n",
       "    .dataframe tbody tr th:only-of-type {\n",
       "        vertical-align: middle;\n",
       "    }\n",
       "\n",
       "    .dataframe tbody tr th {\n",
       "        vertical-align: top;\n",
       "    }\n",
       "\n",
       "    .dataframe thead th {\n",
       "        text-align: right;\n",
       "    }\n",
       "</style>\n",
       "<table border=\"1\" class=\"dataframe\">\n",
       "  <thead>\n",
       "    <tr style=\"text-align: right;\">\n",
       "      <th></th>\n",
       "      <th>game_id</th>\n",
       "    </tr>\n",
       "    <tr>\n",
       "      <th>winner</th>\n",
       "      <th></th>\n",
       "    </tr>\n",
       "  </thead>\n",
       "  <tbody>\n",
       "    <tr>\n",
       "      <th>Black</th>\n",
       "      <td>9107</td>\n",
       "    </tr>\n",
       "    <tr>\n",
       "      <th>Draw</th>\n",
       "      <td>950</td>\n",
       "    </tr>\n",
       "    <tr>\n",
       "      <th>White</th>\n",
       "      <td>10001</td>\n",
       "    </tr>\n",
       "  </tbody>\n",
       "</table>\n",
       "</div>"
      ],
      "text/plain": [
       "        game_id\n",
       "winner         \n",
       "Black      9107\n",
       "Draw        950\n",
       "White     10001"
      ]
     },
     "execution_count": 34,
     "metadata": {},
     "output_type": "execute_result"
    }
   ],
   "source": [
    "colorwins"
   ]
  },
  {
   "cell_type": "code",
   "execution_count": 35,
   "id": "a7c19ca4-a0f6-4616-a051-a92824f1de6c",
   "metadata": {},
   "outputs": [
    {
     "data": {
      "text/html": [
       "<div>\n",
       "<style scoped>\n",
       "    .dataframe tbody tr th:only-of-type {\n",
       "        vertical-align: middle;\n",
       "    }\n",
       "\n",
       "    .dataframe tbody tr th {\n",
       "        vertical-align: top;\n",
       "    }\n",
       "\n",
       "    .dataframe thead th {\n",
       "        text-align: right;\n",
       "    }\n",
       "</style>\n",
       "<table border=\"1\" class=\"dataframe\">\n",
       "  <thead>\n",
       "    <tr style=\"text-align: right;\">\n",
       "      <th></th>\n",
       "      <th>Winner</th>\n",
       "      <th>Victories</th>\n",
       "    </tr>\n",
       "  </thead>\n",
       "  <tbody>\n",
       "    <tr>\n",
       "      <th>0</th>\n",
       "      <td>Draw</td>\n",
       "      <td>950</td>\n",
       "    </tr>\n",
       "    <tr>\n",
       "      <th>1</th>\n",
       "      <td>Black</td>\n",
       "      <td>9107</td>\n",
       "    </tr>\n",
       "    <tr>\n",
       "      <th>2</th>\n",
       "      <td>White</td>\n",
       "      <td>10001</td>\n",
       "    </tr>\n",
       "  </tbody>\n",
       "</table>\n",
       "</div>"
      ],
      "text/plain": [
       "  Winner  Victories\n",
       "0   Draw        950\n",
       "1  Black       9107\n",
       "2  White      10001"
      ]
     },
     "execution_count": 35,
     "metadata": {},
     "output_type": "execute_result"
    }
   ],
   "source": [
    "colorwins = colorwins.sort_values('game_id').reset_index()\n",
    "colorwins.rename(columns = {'winner':'Winner','game_id':'Victories'},inplace=True)\n",
    "colorwins.head()"
   ]
  },
  {
   "cell_type": "code",
   "execution_count": 36,
   "id": "4e868f7f-592e-4c07-be09-8bd7b785d139",
   "metadata": {},
   "outputs": [
    {
     "data": {
      "image/png": "[encoded data removed]",
      "text/plain": [
       "<Figure size 720x720 with 1 Axes>"
      ]
     },
     "metadata": {
      "needs_background": "light"
     },
     "output_type": "display_data"
    }
   ],
   "source": [
    "#Lets plot the Result\n",
    "plt.figure(figsize=(10,10))\n",
    "plt.title(\"Chances of Victory\",fontweight='bold',fontsize=25)\n",
    "plt.xlabel('Outcomes',fontsize=15)\n",
    "plt.ylabel('# of Victories',fontsize=15)\n",
    "plt.tick_params(labelsize=10)\n",
    "plt.bar(colorwins.Winner, colorwins.Victories,edgecolor='blue',color=['green','black','white']);\n",
    "\n",
    "plt.show()"
   ]
  },
  {
   "cell_type": "raw",
   "id": "c1b68efd-52c7-44d3-abd5-148438a50442",
   "metadata": {},
   "source": [
    "White Side seems to more victorious in the game. "
   ]
  },
  {
   "cell_type": "markdown",
   "id": "84dd4ec5-5cb0-4c2f-8291-02239fdf137e",
   "metadata": {},
   "source": [
    "## Q5. What is distribution of rated players?"
   ]
  },
  {
   "cell_type": "code",
   "execution_count": 37,
   "id": "a3f4f452-2bc9-49c6-9a7f-6a644d28558e",
   "metadata": {},
   "outputs": [
    {
     "data": {
      "text/html": [
       "<div>\n",
       "<style scoped>\n",
       "    .dataframe tbody tr th:only-of-type {\n",
       "        vertical-align: middle;\n",
       "    }\n",
       "\n",
       "    .dataframe tbody tr th {\n",
       "        vertical-align: top;\n",
       "    }\n",
       "\n",
       "    .dataframe thead th {\n",
       "        text-align: right;\n",
       "    }\n",
       "</style>\n",
       "<table border=\"1\" class=\"dataframe\">\n",
       "  <thead>\n",
       "    <tr style=\"text-align: right;\">\n",
       "      <th></th>\n",
       "      <th>game_id</th>\n",
       "    </tr>\n",
       "    <tr>\n",
       "      <th>white_rating</th>\n",
       "      <th></th>\n",
       "    </tr>\n",
       "  </thead>\n",
       "  <tbody>\n",
       "    <tr>\n",
       "      <th>784</th>\n",
       "      <td>2</td>\n",
       "    </tr>\n",
       "    <tr>\n",
       "      <th>788</th>\n",
       "      <td>1</td>\n",
       "    </tr>\n",
       "    <tr>\n",
       "      <th>793</th>\n",
       "      <td>1</td>\n",
       "    </tr>\n",
       "    <tr>\n",
       "      <th>795</th>\n",
       "      <td>1</td>\n",
       "    </tr>\n",
       "    <tr>\n",
       "      <th>798</th>\n",
       "      <td>2</td>\n",
       "    </tr>\n",
       "    <tr>\n",
       "      <th>...</th>\n",
       "      <td>...</td>\n",
       "    </tr>\n",
       "    <tr>\n",
       "      <th>2617</th>\n",
       "      <td>1</td>\n",
       "    </tr>\n",
       "    <tr>\n",
       "      <th>2619</th>\n",
       "      <td>2</td>\n",
       "    </tr>\n",
       "    <tr>\n",
       "      <th>2621</th>\n",
       "      <td>24</td>\n",
       "    </tr>\n",
       "    <tr>\n",
       "      <th>2622</th>\n",
       "      <td>1</td>\n",
       "    </tr>\n",
       "    <tr>\n",
       "      <th>2700</th>\n",
       "      <td>1</td>\n",
       "    </tr>\n",
       "  </tbody>\n",
       "</table>\n",
       "<p>1516 rows × 1 columns</p>\n",
       "</div>"
      ],
      "text/plain": [
       "              game_id\n",
       "white_rating         \n",
       "784                 2\n",
       "788                 1\n",
       "793                 1\n",
       "795                 1\n",
       "798                 2\n",
       "...               ...\n",
       "2617                1\n",
       "2619                2\n",
       "2621               24\n",
       "2622                1\n",
       "2700                1\n",
       "\n",
       "[1516 rows x 1 columns]"
      ]
     },
     "execution_count": 37,
     "metadata": {},
     "output_type": "execute_result"
    }
   ],
   "source": [
    "whitegroup = df.groupby('white_rating')[['game_id']].count()\n",
    "whitegroup"
   ]
  },
  {
   "cell_type": "code",
   "execution_count": 38,
   "id": "ec058da1-1a06-4cb7-9519-c111e14031d5",
   "metadata": {},
   "outputs": [
    {
     "data": {
      "text/html": [
       "<div>\n",
       "<style scoped>\n",
       "    .dataframe tbody tr th:only-of-type {\n",
       "        vertical-align: middle;\n",
       "    }\n",
       "\n",
       "    .dataframe tbody tr th {\n",
       "        vertical-align: top;\n",
       "    }\n",
       "\n",
       "    .dataframe thead th {\n",
       "        text-align: right;\n",
       "    }\n",
       "</style>\n",
       "<table border=\"1\" class=\"dataframe\">\n",
       "  <thead>\n",
       "    <tr style=\"text-align: right;\">\n",
       "      <th></th>\n",
       "      <th>game_id</th>\n",
       "    </tr>\n",
       "    <tr>\n",
       "      <th>black_rating</th>\n",
       "      <th></th>\n",
       "    </tr>\n",
       "  </thead>\n",
       "  <tbody>\n",
       "    <tr>\n",
       "      <th>789</th>\n",
       "      <td>1</td>\n",
       "    </tr>\n",
       "    <tr>\n",
       "      <th>791</th>\n",
       "      <td>1</td>\n",
       "    </tr>\n",
       "    <tr>\n",
       "      <th>795</th>\n",
       "      <td>2</td>\n",
       "    </tr>\n",
       "    <tr>\n",
       "      <th>796</th>\n",
       "      <td>1</td>\n",
       "    </tr>\n",
       "    <tr>\n",
       "      <th>800</th>\n",
       "      <td>1</td>\n",
       "    </tr>\n",
       "    <tr>\n",
       "      <th>...</th>\n",
       "      <td>...</td>\n",
       "    </tr>\n",
       "    <tr>\n",
       "      <th>2571</th>\n",
       "      <td>1</td>\n",
       "    </tr>\n",
       "    <tr>\n",
       "      <th>2577</th>\n",
       "      <td>1</td>\n",
       "    </tr>\n",
       "    <tr>\n",
       "      <th>2588</th>\n",
       "      <td>1</td>\n",
       "    </tr>\n",
       "    <tr>\n",
       "      <th>2621</th>\n",
       "      <td>15</td>\n",
       "    </tr>\n",
       "    <tr>\n",
       "      <th>2723</th>\n",
       "      <td>1</td>\n",
       "    </tr>\n",
       "  </tbody>\n",
       "</table>\n",
       "<p>1521 rows × 1 columns</p>\n",
       "</div>"
      ],
      "text/plain": [
       "              game_id\n",
       "black_rating         \n",
       "789                 1\n",
       "791                 1\n",
       "795                 2\n",
       "796                 1\n",
       "800                 1\n",
       "...               ...\n",
       "2571                1\n",
       "2577                1\n",
       "2588                1\n",
       "2621               15\n",
       "2723                1\n",
       "\n",
       "[1521 rows x 1 columns]"
      ]
     },
     "execution_count": 38,
     "metadata": {},
     "output_type": "execute_result"
    }
   ],
   "source": [
    "blackgroup = df.groupby('black_rating')[['game_id']].count()\n",
    "blackgroup"
   ]
  },
  {
   "cell_type": "code",
   "execution_count": 39,
   "id": "528b0556-f78c-4f90-8c12-9406221e3f43",
   "metadata": {},
   "outputs": [
    {
     "data": {
      "text/plain": [
       "Text(0, 0.5, '# of black group players')"
      ]
     },
     "execution_count": 39,
     "metadata": {},
     "output_type": "execute_result"
    },
    {
     "data": {
      "image/png": "[encoded data removed]",
      "text/plain": [
       "<Figure size 720x720 with 1 Axes>"
      ]
     },
     "metadata": {
      "needs_background": "light"
     },
     "output_type": "display_data"
    }
   ],
   "source": [
    "line1 = blackgroup.plot.line(color = 'black',figsize=(10,10))\n",
    "plt.title(\"Distribution of players based on rating\",fontweight='bold',fontsize=25)\n",
    "plt.xlabel('Rating',fontsize=15)\n",
    "plt.ylabel('# of black group players',fontsize=15)\n"
   ]
  },
  {
   "cell_type": "code",
   "execution_count": 40,
   "id": "62391e8c-9709-4ea9-8e19-3fd8641c027e",
   "metadata": {},
   "outputs": [
    {
     "data": {
      "text/plain": [
       "Text(0, 0.5, '# of white group players')"
      ]
     },
     "execution_count": 40,
     "metadata": {},
     "output_type": "execute_result"
    },
    {
     "data": {
      "image/png": "[encoded data removed]",
      "text/plain": [
       "<Figure size 720x720 with 1 Axes>"
      ]
     },
     "metadata": {
      "needs_background": "light"
     },
     "output_type": "display_data"
    }
   ],
   "source": [
    "line2 = whitegroup.plot.line(color = 'red',figsize=(10,10))\n",
    "plt.title(\"Distribution of players based on rating\",fontweight='bold',fontsize=25)\n",
    "plt.xlabel('Rating',fontsize=15)\n",
    "plt.ylabel('# of white group players',fontsize=15)"
   ]
  },
  {
   "cell_type": "raw",
   "id": "ddb5042f-42fa-429d-9117-24e3202caa13",
   "metadata": {},
   "source": [
    "All rated matches were between likely equally rated players "
   ]
  }
 ],
 "metadata": {
  "kernelspec": {
   "display_name": "Python 3 (ipykernel)",
   "language": "python",
   "name": "python3"
  },
  "language_info": {
   "codemirror_mode": {
    "name": "ipython",
    "version": 3
   },
   "file_extension": ".py",
   "mimetype": "text/x-python",
   "name": "python",
   "nbconvert_exporter": "python",
   "pygments_lexer": "ipython3",
   "version": "3.9.7"
  }
 },
 "nbformat": 4,
 "nbformat_minor": 5
}
